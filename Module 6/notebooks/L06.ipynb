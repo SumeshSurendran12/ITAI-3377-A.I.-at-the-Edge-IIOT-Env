{
 "cells": [
  {
   "cell_type": "code",
   "execution_count": 1,
   "id": "94127736-ed61-43a9-9323-30e0db6691dd",
   "metadata": {},
   "outputs": [],
   "source": [
    "# Importing the libraries\n",
    "\n",
    "import pandas as pd\n",
    "from mlforecast import MLForecast\n",
    "from mlforecast.lag_transforms import ExpandingMean, RollingMean\n",
    "from mlforecast.target_transforms import Differences\n",
    "import matplotlib.pyplot as plt\n",
    "from sklearn.model_selection import train_test_split\n",
    "from sklearn.preprocessing import MinMaxScaler\n",
    "from sklearn.metrics import mean_absolute_error, mean_squared_error\n",
    "from sklearn.ensemble import RandomForestRegressor, GradientBoostingRegressor\n",
    "\n",
    "import numpy as np\n",
    "\n",
    "import seaborn as sns\n",
    "\n",
    "import multiprocessing\n"
   ]
  },
  {
   "cell_type": "markdown",
   "id": "e0ac4a20",
   "metadata": {},
   "source": [
    "Data Preparation\n",
    "\n",
    "Download the dataset from Kaggle.\n",
    "Load the dataset and inspect it for missing values, outliers, and normalization requirements.\n",
    "Split the dataset into training and testing sets."
   ]
  },
  {
   "cell_type": "markdown",
   "id": "7568cca0",
   "metadata": {},
   "source": [
    "The dataset was downloaded from Kaggle at https://www.kaggle.com/code/koheimuramatsu/iot-temperature-forecasting"
   ]
  },
  {
   "cell_type": "code",
   "execution_count": 2,
   "id": "4fd64cf1",
   "metadata": {},
   "outputs": [
    {
     "name": "stdout",
     "output_type": "stream",
     "text": [
      "                                    id  room_id/id        noted_date  temp  \\\n",
      "0  __export__.temp_log_196134_bd201015  Room Admin  08-12-2018 09:30    29   \n",
      "1  __export__.temp_log_196131_7bca51bc  Room Admin  08-12-2018 09:30    29   \n",
      "2  __export__.temp_log_196127_522915e3  Room Admin  08-12-2018 09:29    41   \n",
      "3  __export__.temp_log_196128_be0919cf  Room Admin  08-12-2018 09:29    41   \n",
      "4  __export__.temp_log_196126_d30b72fb  Room Admin  08-12-2018 09:29    31   \n",
      "\n",
      "  out/in  \n",
      "0     In  \n",
      "1     In  \n",
      "2    Out  \n",
      "3    Out  \n",
      "4     In  \n",
      "Missing Valies id            0\n",
      "room_id/id    0\n",
      "noted_date    0\n",
      "temp          0\n",
      "out/in        0\n",
      "dtype: int64\n"
     ]
    }
   ],
   "source": [
    "# Load the dataset\n",
    "df = pd.read_csv('IOT-temp.csv')\n",
    "\n",
    "# Examine the dataset by printing the column names and first 5 rows\n",
    "print(df.head())\n",
    "\n",
    "# Check for NA values in the dataset\n",
    "missing_values = df.isnull().sum()\n",
    "\n",
    "print('Missing Valies', missing_values)"
   ]
  },
  {
   "cell_type": "code",
   "execution_count": 3,
   "id": "91b0fb25",
   "metadata": {},
   "outputs": [
    {
     "data": {
      "text/html": [
       "<div>\n",
       "<style scoped>\n",
       "    .dataframe tbody tr th:only-of-type {\n",
       "        vertical-align: middle;\n",
       "    }\n",
       "\n",
       "    .dataframe tbody tr th {\n",
       "        vertical-align: top;\n",
       "    }\n",
       "\n",
       "    .dataframe thead th {\n",
       "        text-align: right;\n",
       "    }\n",
       "</style>\n",
       "<table border=\"1\" class=\"dataframe\">\n",
       "  <thead>\n",
       "    <tr style=\"text-align: right;\">\n",
       "      <th></th>\n",
       "      <th>id</th>\n",
       "      <th>room_id/id</th>\n",
       "      <th>noted_date</th>\n",
       "      <th>temp</th>\n",
       "      <th>out/in</th>\n",
       "    </tr>\n",
       "  </thead>\n",
       "  <tbody>\n",
       "    <tr>\n",
       "      <th>0</th>\n",
       "      <td>__export__.temp_log_196134_bd201015</td>\n",
       "      <td>Room Admin</td>\n",
       "      <td>08-12-2018 09:30</td>\n",
       "      <td>29</td>\n",
       "      <td>In</td>\n",
       "    </tr>\n",
       "    <tr>\n",
       "      <th>1</th>\n",
       "      <td>__export__.temp_log_196131_7bca51bc</td>\n",
       "      <td>Room Admin</td>\n",
       "      <td>08-12-2018 09:30</td>\n",
       "      <td>29</td>\n",
       "      <td>In</td>\n",
       "    </tr>\n",
       "    <tr>\n",
       "      <th>2</th>\n",
       "      <td>__export__.temp_log_196127_522915e3</td>\n",
       "      <td>Room Admin</td>\n",
       "      <td>08-12-2018 09:29</td>\n",
       "      <td>41</td>\n",
       "      <td>Out</td>\n",
       "    </tr>\n",
       "    <tr>\n",
       "      <th>3</th>\n",
       "      <td>__export__.temp_log_196128_be0919cf</td>\n",
       "      <td>Room Admin</td>\n",
       "      <td>08-12-2018 09:29</td>\n",
       "      <td>41</td>\n",
       "      <td>Out</td>\n",
       "    </tr>\n",
       "    <tr>\n",
       "      <th>4</th>\n",
       "      <td>__export__.temp_log_196126_d30b72fb</td>\n",
       "      <td>Room Admin</td>\n",
       "      <td>08-12-2018 09:29</td>\n",
       "      <td>31</td>\n",
       "      <td>In</td>\n",
       "    </tr>\n",
       "    <tr>\n",
       "      <th>...</th>\n",
       "      <td>...</td>\n",
       "      <td>...</td>\n",
       "      <td>...</td>\n",
       "      <td>...</td>\n",
       "      <td>...</td>\n",
       "    </tr>\n",
       "    <tr>\n",
       "      <th>97601</th>\n",
       "      <td>__export__.temp_log_91076_7fbd08ca</td>\n",
       "      <td>Room Admin</td>\n",
       "      <td>28-07-2018 07:07</td>\n",
       "      <td>31</td>\n",
       "      <td>In</td>\n",
       "    </tr>\n",
       "    <tr>\n",
       "      <th>97602</th>\n",
       "      <td>__export__.temp_log_147733_62c03f31</td>\n",
       "      <td>Room Admin</td>\n",
       "      <td>28-07-2018 07:07</td>\n",
       "      <td>31</td>\n",
       "      <td>In</td>\n",
       "    </tr>\n",
       "    <tr>\n",
       "      <th>97603</th>\n",
       "      <td>__export__.temp_log_100386_84093a68</td>\n",
       "      <td>Room Admin</td>\n",
       "      <td>28-07-2018 07:06</td>\n",
       "      <td>31</td>\n",
       "      <td>In</td>\n",
       "    </tr>\n",
       "    <tr>\n",
       "      <th>97604</th>\n",
       "      <td>__export__.temp_log_123297_4d8e690b</td>\n",
       "      <td>Room Admin</td>\n",
       "      <td>28-07-2018 07:06</td>\n",
       "      <td>31</td>\n",
       "      <td>In</td>\n",
       "    </tr>\n",
       "    <tr>\n",
       "      <th>97605</th>\n",
       "      <td>__export__.temp_log_133741_32958703</td>\n",
       "      <td>Room Admin</td>\n",
       "      <td>28-07-2018 07:06</td>\n",
       "      <td>31</td>\n",
       "      <td>In</td>\n",
       "    </tr>\n",
       "  </tbody>\n",
       "</table>\n",
       "<p>97606 rows × 5 columns</p>\n",
       "</div>"
      ],
      "text/plain": [
       "                                        id  room_id/id        noted_date  \\\n",
       "0      __export__.temp_log_196134_bd201015  Room Admin  08-12-2018 09:30   \n",
       "1      __export__.temp_log_196131_7bca51bc  Room Admin  08-12-2018 09:30   \n",
       "2      __export__.temp_log_196127_522915e3  Room Admin  08-12-2018 09:29   \n",
       "3      __export__.temp_log_196128_be0919cf  Room Admin  08-12-2018 09:29   \n",
       "4      __export__.temp_log_196126_d30b72fb  Room Admin  08-12-2018 09:29   \n",
       "...                                    ...         ...               ...   \n",
       "97601   __export__.temp_log_91076_7fbd08ca  Room Admin  28-07-2018 07:07   \n",
       "97602  __export__.temp_log_147733_62c03f31  Room Admin  28-07-2018 07:07   \n",
       "97603  __export__.temp_log_100386_84093a68  Room Admin  28-07-2018 07:06   \n",
       "97604  __export__.temp_log_123297_4d8e690b  Room Admin  28-07-2018 07:06   \n",
       "97605  __export__.temp_log_133741_32958703  Room Admin  28-07-2018 07:06   \n",
       "\n",
       "       temp out/in  \n",
       "0        29     In  \n",
       "1        29     In  \n",
       "2        41    Out  \n",
       "3        41    Out  \n",
       "4        31     In  \n",
       "...     ...    ...  \n",
       "97601    31     In  \n",
       "97602    31     In  \n",
       "97603    31     In  \n",
       "97604    31     In  \n",
       "97605    31     In  \n",
       "\n",
       "[97606 rows x 5 columns]"
      ]
     },
     "execution_count": 3,
     "metadata": {},
     "output_type": "execute_result"
    }
   ],
   "source": [
    "# Remove any rows with NA values\n",
    "df.dropna()"
   ]
  },
  {
   "cell_type": "code",
   "execution_count": 4,
   "id": "aa56b094",
   "metadata": {},
   "outputs": [
    {
     "data": {
      "image/png": "[encoded data removed]",
      "text/plain": [
       "<Figure size 1000x500 with 1 Axes>"
      ]
     },
     "metadata": {},
     "output_type": "display_data"
    }
   ],
   "source": [
    "\n",
    "# Select numeric columns for outlier detection\n",
    "numeric_columns = df.select_dtypes(include=['float64', 'int64']).columns\n",
    "\n",
    "# Plot box plots for each numeric column\n",
    "for column in numeric_columns:\n",
    "    plt.figure(figsize=(10, 5))\n",
    "    sns.boxplot(x=df[column])\n",
    "    plt.title(f'Box plot of {column}')\n",
    "    plt.show()\n"
   ]
  },
  {
   "cell_type": "code",
   "execution_count": 5,
   "id": "56c191c7",
   "metadata": {},
   "outputs": [
    {
     "data": {
      "image/png": "[encoded data removed]",
      "text/plain": [
       "<Figure size 1000x500 with 1 Axes>"
      ]
     },
     "metadata": {},
     "output_type": "display_data"
    }
   ],
   "source": [
    "# Plot histograms for each numeric column\n",
    "for column in numeric_columns:\n",
    "    plt.figure(figsize=(10, 5))\n",
    "    df[column].hist(bins=30)\n",
    "    plt.title(f'Histogram of {column}')\n",
    "    plt.xlabel(column)\n",
    "    plt.ylabel('Frequency')\n",
    "    plt.show()\n"
   ]
  },
  {
   "cell_type": "code",
   "execution_count": 6,
   "id": "9b320e7c",
   "metadata": {},
   "outputs": [],
   "source": [
    "# Normalize the data to a range between 0 and 1\n",
    "scaler = MinMaxScaler()\n",
    "df[numeric_columns] = scaler.fit_transform(df[numeric_columns])\n"
   ]
  },
  {
   "cell_type": "code",
   "execution_count": 7,
   "id": "7fc4f7b4",
   "metadata": {},
   "outputs": [
    {
     "name": "stdout",
     "output_type": "stream",
     "text": [
      "Training set: (78084, 5)\n",
      "Testing set: (19522, 5)\n"
     ]
    }
   ],
   "source": [
    "# Split the dataset into Test and Train\n",
    "\n",
    "# Train-test split based on time series\n",
    "train_size = int(len(df) * 0.8)\n",
    "train, test = df[:train_size], df[train_size:]\n",
    "\n",
    "print(f\"Training set: {train.shape}\")\n",
    "print(f\"Testing set: {test.shape}\")"
   ]
  },
  {
   "cell_type": "markdown",
   "id": "64b86938",
   "metadata": {},
   "source": [
    "Determine number of cores available to improve performance"
   ]
  },
  {
   "cell_type": "markdown",
   "id": "7d38c0e6",
   "metadata": {},
   "source": [
    "Model Selection and Training\n",
    "\n",
    "Explore Nixtla's AutoML capabilities to select and train a forecasting model suitable for this dataset.\n",
    "Document the model selection process and the reasoning behind the chosen model."
   ]
  },
  {
   "cell_type": "code",
   "execution_count": 18,
   "id": "c8df7094",
   "metadata": {},
   "outputs": [
    {
     "name": "stdout",
     "output_type": "stream",
     "text": [
      "Columns already renamed\n",
      "<class 'pandas.core.frame.DataFrame'>\n",
      "RangeIndex: 97606 entries, 0 to 97605\n",
      "Data columns (total 3 columns):\n",
      " #   Column     Non-Null Count  Dtype         \n",
      "---  ------     --------------  -----         \n",
      " 0   unique_id  97606 non-null  object        \n",
      " 1   ds         97606 non-null  datetime64[ns]\n",
      " 2   y          97606 non-null  float64       \n",
      "dtypes: datetime64[ns](1), float64(1), object(1)\n",
      "memory usage: 2.2+ MB\n",
      "None\n",
      "                                  ds             y\n",
      "count                          97606  97606.000000\n",
      "mean   2018-10-07 05:10:38.821178880      0.468464\n",
      "min              2018-07-28 07:06:00      0.000000\n",
      "25%              2018-09-11 07:48:00      0.300000\n",
      "50%              2018-10-17 05:10:00      0.466667\n",
      "75%              2018-10-18 13:46:00      0.633333\n",
      "max              2018-12-08 09:30:00      1.000000\n",
      "std                              NaN      0.189994\n",
      "Training set: (78084, 3)\n",
      "Testing set: (19522, 3)\n",
      "Fitting RandomForrest...\n",
      "Fitting GradientBoosting...\n"
     ]
    }
   ],
   "source": [
    "# Check if columns have already been renamed\n",
    "if 'ds' in df.columns and 'y' in df.columns:\n",
    "    print(\"Columns already renamed\")\n",
    "else:\n",
    "    # Convert 'noted_date' to datetime format\n",
    "    df['noted_date'] = pd.to_datetime(df['noted_date'], format='%d-%m-%Y %H:%M')\n",
    "\n",
    "    # Rename columns to match the expected format for MLForecast\n",
    "    df = df.rename(columns={'noted_date': 'ds', 'temp': 'y'})\n",
    "    df['unique_id'] = 'temperature_series'  # Assuming a single time series\n",
    "\n",
    "\n",
    "\n",
    "# Reorder columns to the expected order\n",
    "df = df[['unique_id', 'ds', 'y']]\n",
    "\n",
    "# Basic information and statistics\n",
    "print(df.info())\n",
    "print(df.describe())\n",
    "\n",
    "# Train-test split based on time series\n",
    "train_size = int(len(df) * 0.8)\n",
    "train, test = df[:train_size], df[train_size:]\n",
    "\n",
    "print(f\"Training set: {train.shape}\")\n",
    "print(f\"Testing set: {test.shape}\")\n",
    "\n",
    "models = {\n",
    "    'RandomForrest': RandomForestRegressor(n_estimators=100),\n",
    "    'GradientBoosting': GradientBoostingRegressor(n_estimators=100)\n",
    "}\n",
    "\n",
    "results = {}\n",
    "\n",
    "for model_name, model in models.items():\n",
    "    print(f\"Fitting {model_name}...\")\n",
    "    forecaster = MLForecast(\n",
    "        models=[\n",
    "            (model)\n",
    "        ],\n",
    "        freq='D',  # Daily frequency\n",
    "        lags=[1, 2, 3],  # Include lags 1, 2, and 3\n",
    "        date_features=['year', 'month', 'day'],  # Include year, month, and day as date features\n",
    "        num_threads= multiprocessing.cpu_count()  # Use cores from above for parallel processing\n",
    "    )\n",
    "\n",
    "    forecaster.fit(train)\n",
    "    predictions = forecaster.predict(len(test))\n",
    "\n",
    "    results[model_name] = predictions\n"
   ]
  },
  {
   "cell_type": "markdown",
   "id": "fec42e1e",
   "metadata": {},
   "source": [
    "Plotting the output comparing Test vs RandomForrestRegression and GradientBoostingRegression"
   ]
  },
  {
   "cell_type": "code",
   "execution_count": 19,
   "id": "e3c11924",
   "metadata": {},
   "outputs": [
    {
     "data": {
      "image/png": "[encoded data removed]",
      "text/plain": [
       "<Figure size 1200x600 with 1 Axes>"
      ]
     },
     "metadata": {},
     "output_type": "display_data"
    }
   ],
   "source": [
    "# Plot the results\n",
    "plt.figure(figsize=(12, 6))\n",
    "plt.plot(test['ds'], test['y'], label='True values')\n",
    "\n",
    "# Extract and plot predictions for each model\n",
    "for model_name, predictions_df in results.items():\n",
    "    # Extract the prediction column (third column in the DataFrame)\n",
    "    predictions_series = predictions_df.iloc[:, 2]\n",
    "    plt.plot(test['ds'], predictions_series, label=model_name)\n",
    "\n",
    "plt.title('Temperature Forecasting')\n",
    "plt.xlabel('Date')\n",
    "plt.ylabel('Temperature')\n",
    "plt.legend()\n",
    "plt.show()"
   ]
  },
  {
   "cell_type": "markdown",
   "id": "b279d433",
   "metadata": {},
   "source": [
    "Evaluation\n",
    "\n",
    "Evaluate your model using appropriate time series metrics (e.g., MAE, MSE, MASE).\n",
    "Perform rolling-origin cross-validation to ensure the model's robustness.\n",
    "Summarize the evaluation results and discuss potential improvements."
   ]
  },
  {
   "cell_type": "code",
   "execution_count": 20,
   "id": "b0a4e783",
   "metadata": {},
   "outputs": [
    {
     "name": "stdout",
     "output_type": "stream",
     "text": [
      "Model Evaluation:\n",
      "RandomForrest: MAE = 0.194, MSE = 0.044\n",
      "GradientBoosting: MAE = 0.206, MSE = 0.047\n",
      "Closer to 0 is better\n"
     ]
    }
   ],
   "source": [
    "# Evaluate the models\n",
    "\n",
    "print(\"Model Evaluation:\")\n",
    "for model_name, predictions_df in results.items():\n",
    "    predictions_series = predictions_df.iloc[:, 2]  # Extract the prediction column\n",
    "    mae = mean_absolute_error(test['y'], predictions_series)\n",
    "    mse = mean_squared_error(test['y'], predictions_series)\n",
    "    print(f\"{model_name}: MAE = {mae:.3f}, MSE = {mse:.3f}\")\n",
    "print(\"Closer to 0 is better\")"
   ]
  },
  {
   "cell_type": "markdown",
   "id": "2fda7a48",
   "metadata": {},
   "source": [
    "Rolling-origin cross-validation to ensure the model's robustness."
   ]
  },
  {
   "cell_type": "code",
   "execution_count": 27,
   "id": "e7b048e4",
   "metadata": {},
   "outputs": [],
   "source": [
    "# Function to perform rolling-origin cross-validation\n",
    "def rolling_origin_cv(df, model, window_size, step_size):\n",
    "    results = []\n",
    "    n = len(df)\n",
    "    \n",
    "    for start in range(0, n - window_size, step_size):\n",
    "        train = df.iloc[start:start + window_size]\n",
    "        test = df.iloc[start + window_size:start + window_size + step_size]\n",
    "        \n",
    "        forecaster = MLForecast(\n",
    "            models=[model],\n",
    "            freq='D',\n",
    "            lags=[1, 2, 3],\n",
    "            date_features=['year', 'month', 'day'],\n",
    "            num_threads=multiprocessing.cpu_count()  # Automatically use all available cores\n",
    "        )\n",
    "        \n",
    "        forecaster.fit(train, id_col='unique_id', time_col='ds', target_col='y')\n",
    "        \n",
    "        predictions = forecaster.predict(len(test))\n",
    "\n",
    "        # Ensure predictions are flattened if necessary\n",
    "        if isinstance(predictions, pd.DataFrame):\n",
    "            predictions = predictions.iloc[:, -1].values\n",
    "\n",
    "        mae = mean_absolute_error(test['y'], predictions)\n",
    "        mse = mean_squared_error(test['y'], predictions)\n",
    "        \n",
    "        results.append({'mae': mae, 'mse': mse})\n",
    "    \n",
    "    return pd.DataFrame(results)\n",
    "\n",
    "# Use the correct subset of the dataframe\n",
    "unique_df = df[['unique_id', 'ds', 'y']]\n",
    "\n",
    "# Parameters for rolling-origin cross-validation\n",
    "window_size = int(len(unique_df) * 0.6)  # Initial training window size (60% of data)\n",
    "step_size = int(len(unique_df) * 0.2)    # Step size for moving window (20% of data)\n",
    "\n",
    "# Define the model to evaluate\n",
    "model = RandomForestRegressor(n_estimators=100)\n",
    "\n",
    "# Perform rolling-origin cross-validation\n",
    "cv_results = rolling_origin_cv(unique_df, model, window_size, step_size)\n",
    "\n",
    "# Print results\n",
    "print(\"Rolling-Origin Cross-Validation Results:\")\n",
    "print(cv_results)\n",
    "print(\"\\nAverage MAE:\", cv_results['mae'].mean())\n",
    "print(\"Average MSE:\", cv_results['mse'].mean())\n"
   ]
  },
  {
   "cell_type": "code",
   "execution_count": null,
   "id": "0c02d58e",
   "metadata": {},
   "outputs": [],
   "source": []
  }
 ],
 "metadata": {
  "kernelspec": {
   "display_name": "Python 3 (ipykernel)",
   "language": "python",
   "name": "python3"
  },
  "language_info": {
   "codemirror_mode": {
    "name": "ipython",
    "version": 3
   },
   "file_extension": ".py",
   "mimetype": "text/x-python",
   "name": "python",
   "nbconvert_exporter": "python",
   "pygments_lexer": "ipython3",
   "version": "3.10.12"
  }
 },
 "nbformat": 4,
 "nbformat_minor": 5
}
