{
 "cells": [
  {
   "cell_type": "code",
   "execution_count": 34,
   "id": "94127736-ed61-43a9-9323-30e0db6691dd",
   "metadata": {},
   "outputs": [],
   "source": [
    "# Importing the libraries\n",
    "\n",
    "import pandas as pd\n",
    "import nixtla\n",
    "from mlforecast import MLForecast\n",
    "from mlforecast.lag_transforms import ExpandingMean, RollingMean\n",
    "from mlforecast.target_transforms import Differences\n",
    "import matplotlib.pyplot as plt\n",
    "from sklearn.model_selection import train_test_split\n",
    "from sklearn.preprocessing import MinMaxScaler\n",
    "\n",
    "from sklearn.ensemble import RandomForestRegressor\n",
    "\n",
    "import numpy as np\n",
    "\n",
    "import seaborn as sns\n",
    "\n",
    "\n"
   ]
  },
  {
   "cell_type": "code",
   "execution_count": 3,
   "id": "4fd64cf1",
   "metadata": {},
   "outputs": [
    {
     "name": "stdout",
     "output_type": "stream",
     "text": [
      "                                    id  room_id/id        noted_date  temp  \\\n",
      "0  __export__.temp_log_196134_bd201015  Room Admin  08-12-2018 09:30    29   \n",
      "1  __export__.temp_log_196131_7bca51bc  Room Admin  08-12-2018 09:30    29   \n",
      "2  __export__.temp_log_196127_522915e3  Room Admin  08-12-2018 09:29    41   \n",
      "3  __export__.temp_log_196128_be0919cf  Room Admin  08-12-2018 09:29    41   \n",
      "4  __export__.temp_log_196126_d30b72fb  Room Admin  08-12-2018 09:29    31   \n",
      "\n",
      "  out/in  \n",
      "0     In  \n",
      "1     In  \n",
      "2    Out  \n",
      "3    Out  \n",
      "4     In  \n",
      "Missing Valies id            0\n",
      "room_id/id    0\n",
      "noted_date    0\n",
      "temp          0\n",
      "out/in        0\n",
      "dtype: int64\n"
     ]
    }
   ],
   "source": [
    "# Load the dataset\n",
    "\n",
    "df = pd.read_csv('IOT-temp.csv')\n",
    "\n",
    "# Examine the dataset\n",
    "print(df.head())\n",
    "\n",
    "missing_values = df.isnull().sum()\n",
    "print('Missing Valies', missing_values)"
   ]
  },
  {
   "cell_type": "code",
   "execution_count": 4,
   "id": "91b0fb25",
   "metadata": {},
   "outputs": [
    {
     "data": {
      "text/html": [
       "<div>\n",
       "<style scoped>\n",
       "    .dataframe tbody tr th:only-of-type {\n",
       "        vertical-align: middle;\n",
       "    }\n",
       "\n",
       "    .dataframe tbody tr th {\n",
       "        vertical-align: top;\n",
       "    }\n",
       "\n",
       "    .dataframe thead th {\n",
       "        text-align: right;\n",
       "    }\n",
       "</style>\n",
       "<table border=\"1\" class=\"dataframe\">\n",
       "  <thead>\n",
       "    <tr style=\"text-align: right;\">\n",
       "      <th></th>\n",
       "      <th>id</th>\n",
       "      <th>room_id/id</th>\n",
       "      <th>noted_date</th>\n",
       "      <th>temp</th>\n",
       "      <th>out/in</th>\n",
       "    </tr>\n",
       "  </thead>\n",
       "  <tbody>\n",
       "    <tr>\n",
       "      <th>0</th>\n",
       "      <td>__export__.temp_log_196134_bd201015</td>\n",
       "      <td>Room Admin</td>\n",
       "      <td>08-12-2018 09:30</td>\n",
       "      <td>29</td>\n",
       "      <td>In</td>\n",
       "    </tr>\n",
       "    <tr>\n",
       "      <th>1</th>\n",
       "      <td>__export__.temp_log_196131_7bca51bc</td>\n",
       "      <td>Room Admin</td>\n",
       "      <td>08-12-2018 09:30</td>\n",
       "      <td>29</td>\n",
       "      <td>In</td>\n",
       "    </tr>\n",
       "    <tr>\n",
       "      <th>2</th>\n",
       "      <td>__export__.temp_log_196127_522915e3</td>\n",
       "      <td>Room Admin</td>\n",
       "      <td>08-12-2018 09:29</td>\n",
       "      <td>41</td>\n",
       "      <td>Out</td>\n",
       "    </tr>\n",
       "    <tr>\n",
       "      <th>3</th>\n",
       "      <td>__export__.temp_log_196128_be0919cf</td>\n",
       "      <td>Room Admin</td>\n",
       "      <td>08-12-2018 09:29</td>\n",
       "      <td>41</td>\n",
       "      <td>Out</td>\n",
       "    </tr>\n",
       "    <tr>\n",
       "      <th>4</th>\n",
       "      <td>__export__.temp_log_196126_d30b72fb</td>\n",
       "      <td>Room Admin</td>\n",
       "      <td>08-12-2018 09:29</td>\n",
       "      <td>31</td>\n",
       "      <td>In</td>\n",
       "    </tr>\n",
       "    <tr>\n",
       "      <th>...</th>\n",
       "      <td>...</td>\n",
       "      <td>...</td>\n",
       "      <td>...</td>\n",
       "      <td>...</td>\n",
       "      <td>...</td>\n",
       "    </tr>\n",
       "    <tr>\n",
       "      <th>97601</th>\n",
       "      <td>__export__.temp_log_91076_7fbd08ca</td>\n",
       "      <td>Room Admin</td>\n",
       "      <td>28-07-2018 07:07</td>\n",
       "      <td>31</td>\n",
       "      <td>In</td>\n",
       "    </tr>\n",
       "    <tr>\n",
       "      <th>97602</th>\n",
       "      <td>__export__.temp_log_147733_62c03f31</td>\n",
       "      <td>Room Admin</td>\n",
       "      <td>28-07-2018 07:07</td>\n",
       "      <td>31</td>\n",
       "      <td>In</td>\n",
       "    </tr>\n",
       "    <tr>\n",
       "      <th>97603</th>\n",
       "      <td>__export__.temp_log_100386_84093a68</td>\n",
       "      <td>Room Admin</td>\n",
       "      <td>28-07-2018 07:06</td>\n",
       "      <td>31</td>\n",
       "      <td>In</td>\n",
       "    </tr>\n",
       "    <tr>\n",
       "      <th>97604</th>\n",
       "      <td>__export__.temp_log_123297_4d8e690b</td>\n",
       "      <td>Room Admin</td>\n",
       "      <td>28-07-2018 07:06</td>\n",
       "      <td>31</td>\n",
       "      <td>In</td>\n",
       "    </tr>\n",
       "    <tr>\n",
       "      <th>97605</th>\n",
       "      <td>__export__.temp_log_133741_32958703</td>\n",
       "      <td>Room Admin</td>\n",
       "      <td>28-07-2018 07:06</td>\n",
       "      <td>31</td>\n",
       "      <td>In</td>\n",
       "    </tr>\n",
       "  </tbody>\n",
       "</table>\n",
       "<p>97606 rows × 5 columns</p>\n",
       "</div>"
      ],
      "text/plain": [
       "                                        id  room_id/id        noted_date  \\\n",
       "0      __export__.temp_log_196134_bd201015  Room Admin  08-12-2018 09:30   \n",
       "1      __export__.temp_log_196131_7bca51bc  Room Admin  08-12-2018 09:30   \n",
       "2      __export__.temp_log_196127_522915e3  Room Admin  08-12-2018 09:29   \n",
       "3      __export__.temp_log_196128_be0919cf  Room Admin  08-12-2018 09:29   \n",
       "4      __export__.temp_log_196126_d30b72fb  Room Admin  08-12-2018 09:29   \n",
       "...                                    ...         ...               ...   \n",
       "97601   __export__.temp_log_91076_7fbd08ca  Room Admin  28-07-2018 07:07   \n",
       "97602  __export__.temp_log_147733_62c03f31  Room Admin  28-07-2018 07:07   \n",
       "97603  __export__.temp_log_100386_84093a68  Room Admin  28-07-2018 07:06   \n",
       "97604  __export__.temp_log_123297_4d8e690b  Room Admin  28-07-2018 07:06   \n",
       "97605  __export__.temp_log_133741_32958703  Room Admin  28-07-2018 07:06   \n",
       "\n",
       "       temp out/in  \n",
       "0        29     In  \n",
       "1        29     In  \n",
       "2        41    Out  \n",
       "3        41    Out  \n",
       "4        31     In  \n",
       "...     ...    ...  \n",
       "97601    31     In  \n",
       "97602    31     In  \n",
       "97603    31     In  \n",
       "97604    31     In  \n",
       "97605    31     In  \n",
       "\n",
       "[97606 rows x 5 columns]"
      ]
     },
     "execution_count": 4,
     "metadata": {},
     "output_type": "execute_result"
    }
   ],
   "source": [
    "df.dropna()"
   ]
  },
  {
   "cell_type": "code",
   "execution_count": 5,
   "id": "aa56b094",
   "metadata": {},
   "outputs": [
    {
     "data": {
      "image/png": "[encoded data removed]",
      "text/plain": [
       "<Figure size 1000x500 with 1 Axes>"
      ]
     },
     "metadata": {},
     "output_type": "display_data"
    }
   ],
   "source": [
    "\n",
    "# Select numeric columns for outlier detection\n",
    "numeric_columns = df.select_dtypes(include=['float64', 'int64']).columns\n",
    "\n",
    "# Plot box plots for each numeric column\n",
    "for column in numeric_columns:\n",
    "    plt.figure(figsize=(10, 5))\n",
    "    sns.boxplot(x=df[column])\n",
    "    plt.title(f'Box plot of {column}')\n",
    "    plt.show()\n"
   ]
  },
  {
   "cell_type": "code",
   "execution_count": 6,
   "id": "56c191c7",
   "metadata": {},
   "outputs": [
    {
     "data": {
      "image/png": "[encoded data removed]",
      "text/plain": [
       "<Figure size 1000x500 with 1 Axes>"
      ]
     },
     "metadata": {},
     "output_type": "display_data"
    }
   ],
   "source": [
    "# Plot histograms for each numeric column\n",
    "for column in numeric_columns:\n",
    "    plt.figure(figsize=(10, 5))\n",
    "    df[column].hist(bins=30)\n",
    "    plt.title(f'Histogram of {column}')\n",
    "    plt.xlabel(column)\n",
    "    plt.ylabel('Frequency')\n",
    "    plt.show()\n"
   ]
  },
  {
   "cell_type": "code",
   "execution_count": 7,
   "id": "9b320e7c",
   "metadata": {},
   "outputs": [
    {
     "name": "stdout",
     "output_type": "stream",
     "text": [
      "                                    id  room_id/id        noted_date  \\\n",
      "0  __export__.temp_log_196134_bd201015  Room Admin  08-12-2018 09:30   \n",
      "1  __export__.temp_log_196131_7bca51bc  Room Admin  08-12-2018 09:30   \n",
      "2  __export__.temp_log_196127_522915e3  Room Admin  08-12-2018 09:29   \n",
      "3  __export__.temp_log_196128_be0919cf  Room Admin  08-12-2018 09:29   \n",
      "4  __export__.temp_log_196126_d30b72fb  Room Admin  08-12-2018 09:29   \n",
      "\n",
      "       temp out/in  \n",
      "0  0.266667     In  \n",
      "1  0.266667     In  \n",
      "2  0.666667    Out  \n",
      "3  0.666667    Out  \n",
      "4  0.333333     In  \n"
     ]
    }
   ],
   "source": [
    "\n",
    "scaler = MinMaxScaler()\n",
    "df[numeric_columns] = scaler.fit_transform(df[numeric_columns])\n"
   ]
  },
  {
   "cell_type": "code",
   "execution_count": 8,
   "id": "7fc4f7b4",
   "metadata": {},
   "outputs": [
    {
     "name": "stdout",
     "output_type": "stream",
     "text": [
      "Training set: (78084, 5)\n",
      "Testing set: (19522, 5)\n"
     ]
    }
   ],
   "source": [
    "# Split the dataset into Test and Train\n",
    "\n",
    "# Train-test split based on time series\n",
    "train_size = int(len(df) * 0.8)\n",
    "train, test = df[:train_size], df[train_size:]\n",
    "\n",
    "print(f\"Training set: {train.shape}\")\n",
    "print(f\"Testing set: {test.shape}\")"
   ]
  },
  {
   "cell_type": "code",
   "execution_count": null,
   "id": "c8df7094",
   "metadata": {},
   "outputs": [],
   "source": [
    "# Check if columns have already been renamed\n",
    "if 'ds' in df.columns and 'y' in df.columns:\n",
    "    print(\"Columns already renamed\")\n",
    "else:\n",
    "    # Convert 'noted_date' to datetime format\n",
    "    df['noted_date'] = pd.to_datetime(df['noted_date'], format='%d-%m-%Y %H:%M')\n",
    "\n",
    "    # Rename columns to match the expected format for MLForecast\n",
    "    df = df.rename(columns={'noted_date': 'ds', 'temp': 'y'})\n",
    "    df['unique_id'] = 'temperature_series'  # Assuming a single time series\n",
    "\n",
    "\n",
    "\n",
    "# Reorder columns to the expected order\n",
    "df = df[['unique_id', 'ds', 'y']]\n",
    "\n",
    "# Basic information and statistics\n",
    "print(df.info())\n",
    "print(df.describe())\n",
    "\n",
    "# Train-test split based on time series\n",
    "train_size = int(len(df) * 0.8)\n",
    "train, test = df[:train_size], df[train_size:]\n",
    "\n",
    "print(f\"Training set: {train.shape}\")\n",
    "print(f\"Testing set: {test.shape}\")\n",
    "\n",
    "# Initialize MLForecast\n",
    "forecaster = MLForecast(\n",
    "        models=[\n",
    "        (RandomForestRegressor(n_estimators=100))\n",
    "    ],\n",
    "    freq='D',  # Adjust frequency as per your dataset's granularity\n",
    "    lags=[1, 2, 3],  # Example lags; modify as needed\n",
    "    date_features=['year', 'month', 'day'],\n",
    "    num_threads=4  # Adjust based on your system\n",
    ")\n",
    "\n",
    "# Fit the forecaster on the training data\n",
    "print(\"Fitting the forecaster...\")\n",
    "forecaster.fit(train)\n",
    "\n",
    "# Predict on the test data\n",
    "predictions = forecaster.predict(len(test))\n",
    "\n",
    "\n",
    "# Evaluate the model\n",
    "print(\"Predictions:\")\n",
    "print(predictions_series.head())\n"
   ]
  },
  {
   "cell_type": "markdown",
   "id": "5e85f370",
   "metadata": {},
   "source": []
  },
  {
   "cell_type": "code",
   "execution_count": 49,
   "id": "356da06d",
   "metadata": {},
   "outputs": [
    {
     "ename": "AttributeError",
     "evalue": "'DataFrame' object has no attribute 'flatten'",
     "output_type": "error",
     "traceback": [
      "\u001b[0;31m---------------------------------------------------------------------------\u001b[0m",
      "\u001b[0;31mAttributeError\u001b[0m                            Traceback (most recent call last)",
      "\u001b[0;32m/tmp/ipykernel_10169/3475343535.py\u001b[0m in \u001b[0;36m?\u001b[0;34m()\u001b[0m\n\u001b[0;32m----> 1\u001b[0;31m \u001b[0mpredictions\u001b[0m\u001b[0;34m.\u001b[0m\u001b[0mflatten\u001b[0m\u001b[0;34m(\u001b[0m\u001b[0;34m)\u001b[0m\u001b[0;34m\u001b[0m\u001b[0;34m\u001b[0m\u001b[0m\n\u001b[0m\u001b[1;32m      2\u001b[0m \u001b[0;31m# Plot actual vs predicted values\u001b[0m\u001b[0;34m\u001b[0m\u001b[0;34m\u001b[0m\u001b[0m\n\u001b[1;32m      3\u001b[0m \u001b[0mplt\u001b[0m\u001b[0;34m.\u001b[0m\u001b[0mfigure\u001b[0m\u001b[0;34m(\u001b[0m\u001b[0mfigsize\u001b[0m\u001b[0;34m=\u001b[0m\u001b[0;34m(\u001b[0m\u001b[0;36m12\u001b[0m\u001b[0;34m,\u001b[0m \u001b[0;36m6\u001b[0m\u001b[0;34m)\u001b[0m\u001b[0;34m)\u001b[0m\u001b[0;34m\u001b[0m\u001b[0;34m\u001b[0m\u001b[0m\n\u001b[1;32m      4\u001b[0m \u001b[0mplt\u001b[0m\u001b[0;34m.\u001b[0m\u001b[0mplot\u001b[0m\u001b[0;34m(\u001b[0m\u001b[0mtrain\u001b[0m\u001b[0;34m[\u001b[0m\u001b[0;34m'ds'\u001b[0m\u001b[0;34m]\u001b[0m\u001b[0;34m,\u001b[0m \u001b[0mtrain\u001b[0m\u001b[0;34m[\u001b[0m\u001b[0;34m'y'\u001b[0m\u001b[0;34m]\u001b[0m\u001b[0;34m,\u001b[0m \u001b[0mlabel\u001b[0m\u001b[0;34m=\u001b[0m\u001b[0;34m'Train'\u001b[0m\u001b[0;34m)\u001b[0m\u001b[0;34m\u001b[0m\u001b[0;34m\u001b[0m\u001b[0m\n",
      "\u001b[0;32m/usr/local/lib/python3.10/dist-packages/pandas/core/generic.py\u001b[0m in \u001b[0;36m?\u001b[0;34m(self, name)\u001b[0m\n\u001b[1;32m   6295\u001b[0m             \u001b[0;32mand\u001b[0m \u001b[0mname\u001b[0m \u001b[0;32mnot\u001b[0m \u001b[0;32min\u001b[0m \u001b[0mself\u001b[0m\u001b[0;34m.\u001b[0m\u001b[0m_accessors\u001b[0m\u001b[0;34m\u001b[0m\u001b[0;34m\u001b[0m\u001b[0m\n\u001b[1;32m   6296\u001b[0m             \u001b[0;32mand\u001b[0m \u001b[0mself\u001b[0m\u001b[0;34m.\u001b[0m\u001b[0m_info_axis\u001b[0m\u001b[0;34m.\u001b[0m\u001b[0m_can_hold_identifiers_and_holds_name\u001b[0m\u001b[0;34m(\u001b[0m\u001b[0mname\u001b[0m\u001b[0;34m)\u001b[0m\u001b[0;34m\u001b[0m\u001b[0;34m\u001b[0m\u001b[0m\n\u001b[1;32m   6297\u001b[0m         ):\n\u001b[1;32m   6298\u001b[0m             \u001b[0;32mreturn\u001b[0m \u001b[0mself\u001b[0m\u001b[0;34m[\u001b[0m\u001b[0mname\u001b[0m\u001b[0;34m]\u001b[0m\u001b[0;34m\u001b[0m\u001b[0;34m\u001b[0m\u001b[0m\n\u001b[0;32m-> 6299\u001b[0;31m         \u001b[0;32mreturn\u001b[0m \u001b[0mobject\u001b[0m\u001b[0;34m.\u001b[0m\u001b[0m__getattribute__\u001b[0m\u001b[0;34m(\u001b[0m\u001b[0mself\u001b[0m\u001b[0;34m,\u001b[0m \u001b[0mname\u001b[0m\u001b[0;34m)\u001b[0m\u001b[0;34m\u001b[0m\u001b[0;34m\u001b[0m\u001b[0m\n\u001b[0m",
      "\u001b[0;31mAttributeError\u001b[0m: 'DataFrame' object has no attribute 'flatten'"
     ]
    }
   ],
   "source": [
    "# Having issues showing the predictions in the plot\n",
    "\n",
    "\n",
    "# Plot actual vs predicted values\n",
    "plt.figure(figsize=(12, 6))\n",
    "plt.plot(train['ds'], train['y'], label='Train')\n",
    "plt.plot(test['ds'], test['y'], label='Test')\n",
    "plt.plot(test['ds'], predictions, label='Predicted')\n",
    "plt.legend()\n",
    "plt.show()"
   ]
  },
  {
   "cell_type": "code",
   "execution_count": null,
   "id": "19d60ab5",
   "metadata": {},
   "outputs": [],
   "source": []
  }
 ],
 "metadata": {
  "kernelspec": {
   "display_name": "Python 3 (ipykernel)",
   "language": "python",
   "name": "python3"
  },
  "language_info": {
   "codemirror_mode": {
    "name": "ipython",
    "version": 3
   },
   "file_extension": ".py",
   "mimetype": "text/x-python",
   "name": "python",
   "nbconvert_exporter": "python",
   "pygments_lexer": "ipython3",
   "version": "3.10.12"
  }
 },
 "nbformat": 4,
 "nbformat_minor": 5
}
