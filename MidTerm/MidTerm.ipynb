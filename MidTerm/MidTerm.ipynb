{
 "cells": [
  {
   "cell_type": "markdown",
   "metadata": {},
   "source": [
    "System Selection:\n",
    "Choose a hypothetical AI-integrated IIoT system (e.g., smart factory, healthcare monitoring system, connected transportation network).\n",
    "Define the system components, including devices, sensors, AI models, network infrastructure, and data flow.\n",
    "\n",
    "\n",
    "In this example we will be creating a hypothetical smart factory IIoT system\n",
    "\n",
    "Components:\n",
    "- Sensor systems\n",
    "- Vibration Sensors\n",
    "- Heat Sensors (thermocouple/IR)\n",
    "    - Thermocouple\n",
    "    - InfraRed\n",
    "- IIoT platform (esp8266)\n",
    "- Network\n",
    "    - WiFi\n",
    "    - Ethernet\n",
    "    - POE\n",
    "- AI models\n",
    "- Data Flow"
   ]
  },
  {
   "cell_type": "markdown",
   "metadata": {},
   "source": [
    "Vulnerability Assessment:\n",
    "Identify potential vulnerabilities across device, network, data, application, AI models, and human factors.\n",
    "Document each identified vulnerability with a brief description of potential exploitation methods.\n",
    "\n"
   ]
  },
  {
   "cell_type": "markdown",
   "metadata": {},
   "source": [
    "Documentation:\n",
    "Create a detailed diagram of the AI-integrated IIoT system, highlighting identified vulnerabilities."
   ]
  }
 ],
 "metadata": {
  "language_info": {
   "name": "python"
  }
 },
 "nbformat": 4,
 "nbformat_minor": 2
}
