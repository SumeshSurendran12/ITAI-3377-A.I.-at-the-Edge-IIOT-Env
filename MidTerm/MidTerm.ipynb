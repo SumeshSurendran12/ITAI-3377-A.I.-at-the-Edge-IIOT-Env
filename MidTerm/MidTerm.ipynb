{
 "cells": [
  {
   "cell_type": "markdown",
   "metadata": {},
   "source": [
    "System Selection:\n",
    "Choose a hypothetical AI-integrated IIoT system (e.g., smart factory, healthcare monitoring system, connected transportation network).\n",
    "Define the system components, including devices, sensors, AI models, network infrastructure, and data flow.\n",
    "\n",
    "\n",
    "In this example we will be creating a hypothetical smart factory IIoT system\n",
    "\n",
    "Components:\n",
    "- Sensor systems\n",
    "    - Vibration Sensor - MakerHawk 4pcs Analog Ceramic Piezo Vibration Sensor Module\n",
    "    - Heat Sensors\n",
    "        - Thermocouple - DS18B20 Temperature Sensor\n",
    "        - InfraRed - GY-906 MLX90614 MLX90614ESF Non Contact IR Infrared Temperature Sensor \n",
    "    - Sound Sensor - Microphone Sensor AVR PIC High Sensitivity Sound Detection Module LM393 Dual Differential Comparators\n",
    "    - Hour meter - programmable, either by power sensing, or combination of previous sensors.\n",
    "- IIoT platform (nvidia SBC [nano, orin, tx2])\n",
    "- Network\n",
    "    - WiFi\n",
    "    - Ethernet\n",
    "    - POE\n",
    "    - SMS\n",
    "- AI models\n",
    "    - Vibration Analysis https://www.kaggle.com/datasets/jishnukoliyadan/vibration-analysis-on-rotating-shaft\n",
    "    - Noise analsys - custom model created from samples of normal operating machinery as defined by experts with domain knowledge\n",
    "    - Thermocouple Heat analysis - custom model created from samples of normal operating machinery as defined by experts with domain knowledge\n",
    "    - IR - custom CV model created from samples of normal operating machinery as defined by experts with domain knowledge\n",
    "    - After training, testing and verification, models are locked to prevent drift at the endpoints.\n",
    "- Data Flow\n",
    "    - Edge processing of data using onboard CPU/GPU and data sensors to gather information. process and analyze\n",
    "    - Periodic updates through message broker to datacenter with information about the status, and any sensors that are detecting input out of good range\n",
    "    - If sufficient fault data is recevied, use SMS to alert defined operators of a problem condition to schedule maintanence"
   ]
  },
  {
   "cell_type": "markdown",
   "metadata": {},
   "source": [
    "### Vulnerability Assessment:\n",
    "- Identify potential vulnerabilities across device, network, data, application, AI models, and human factors.\n",
    "    - Potential vulnerabilities:\n",
    "        - Edge\n",
    "            - hardware tampering\n",
    "            - model corruption or modification\n",
    "        - Network\n",
    "            - Man in the Middle attacks\n",
    "        - Data\n",
    "            - Buffer Overflow\n",
    "            - Data poisoning\n",
    "        - AI Model\n",
    "            - Model poisoning\n",
    "        - Human factors\n",
    "            - Social Engineering\n",
    "            - configuration issues\n",
    "\n",
    "\n",
    "\n",
    "            \n",
    "- Document each identified vulnerability with a brief description of potential exploitation methods.\n",
    "\n",
    "\n",
    "#### Edge Vulnerabilities\n",
    "- Hardward Tampering:  Because these are edge devices they may be in areas that are left unsupervised, this can allow for tampering with the systems to manipulate data, allow for machine failure or return invalid data.\n",
    "- Model Corruption or Modificaiton:  Again because of the remote use of these systems, having physical access allows for the ability to make software changes to control the behavior of the reporting and detection systems.\n",
    "\n",
    "#####  Network\n",
    "- Man in the Middle Attacks:  This is another expoit that is helped by a remote deployment, it's possible to use a device to perform man in the middle attacks by capturing data, and sending false data.\n",
    "\n",
    "#### Data\n",
    "- Buffer Overflow:  Without proper input verification, it could be possible to perform this attack by sending specialy crafted data streams as input and breaking out of programatic guard rails to run code.\n",
    "- Data Poisoning:  By manipulating data, incorrect information could be interpreted and cause unexpected behaviors\n",
    "\n",
    "#### AI Model\n",
    "- Model Poisoning: Using some of the previous techniques the model could be retrained with bad data leading to results that are not desirable\n",
    "\n",
    "#### Human Factors\n",
    "- Social Engineering:  Social Engineering attacks can be used to impersonate authorizied personel to gain access to sensitive data or systems\n",
    "- Configuration Issues:  A misconfigured system, through malice or lack of training could lead to deployment issues and less than optimal performance\n",
    "\n",
    "\n"
   ]
  },
  {
   "cell_type": "markdown",
   "metadata": {},
   "source": [
    "### Documentation:\n",
    "Create a detailed diagram of the AI-integrated IIoT system, highlighting identified vulnerabilities."
   ]
  },
  {
   "cell_type": "markdown",
   "metadata": {},
   "source": [
    "# Defense Strategy Development\n",
    "\n",
    "## Defense Measures:\n",
    "- Develop a defense strategy addressing each identified vulnerability, including:\n",
    "- Secure by design principles\n",
    "- Authentication and access control\n",
    "- Encryption and data protection\n",
    "- Network security\n",
    "- Secure software development\n",
    "- Physical security\n",
    "- Security monitoring and incident response\n",
    "- Specific measures for AI models and data\n",
    "## Implementation Plan:\n",
    "- Outline a step-by-step plan for implementing defense measures.\n",
    "- Include timelines, roles, and required technologies or tools.\n",
    "## Documentation:\n",
    "- Compile the defense strategy into a comprehensive document."
   ]
  },
  {
   "cell_type": "markdown",
   "metadata": {},
   "source": [
    "# Penetration Testing Simulation\n",
    "\n",
    "- Attack Simulation:\n",
    "- Conduct penetration testing simulations where each student takes turns as the attacker and defenders.\n",
    "- Simulate attacks based on identified vulnerabilities and test the defense strategy.\n",
    "- Assessment and Improvement:\n",
    "- Discuss the effectiveness of the defense measures after each simulated attack.\n",
    "- Identify weaknesses and propose improvements."
   ]
  },
  {
   "cell_type": "markdown",
   "metadata": {},
   "source": []
  }
 ],
 "metadata": {
  "language_info": {
   "name": "python"
  }
 },
 "nbformat": 4,
 "nbformat_minor": 2
}
